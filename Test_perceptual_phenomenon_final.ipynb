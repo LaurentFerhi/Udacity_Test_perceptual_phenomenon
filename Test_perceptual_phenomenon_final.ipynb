{
 "cells": [
  {
   "cell_type": "markdown",
   "metadata": {},
   "source": [
    "# Project: Test a Perceptual Phenomenon\n",
    "\n",
    "## Table of Contents\n",
    "<ul>\n",
    "<li><a href=\"#intro\">Background Information</a></li>\n",
    "<li><a href=\"#question\">Questions For Investigation</a></li>\n",
    "<li><a href=\"#ref\">References</a></li>\n",
    "</ul>"
   ]
  },
  {
   "cell_type": "markdown",
   "metadata": {},
   "source": [
    "<a id='intro'></a>\n",
    "## Background Information\n",
    "\n",
    "In a Stroop task, participants are presented with a list of words, with each word displayed in a color of ink. The participant’s task is to say out loud the color of the ink in which the word is printed. The task has two conditions: a congruent words condition, and an incongruent words condition. In the congruent words\n",
    "condition, the words being displayed are color words whose names match the colors in which they are printed: for example, <font color=red>RED</font> , <font color=blue>BLUE</font> . In the incongruent words condition, the words displayed are color words whose names do not match the colors in which they are printed: for example, <font color=green>PURPLE</font> , <font color=purple>ORANGE</font> . In each case, we measure the time it takes to name the ink colors in equally-sized lists. Each participant will go through and record a time from each condition."
   ]
  },
  {
   "cell_type": "code",
   "execution_count": 1,
   "metadata": {},
   "outputs": [],
   "source": [
    "# Importing necessary libraries\n",
    "import pandas as pd\n",
    "import numpy as np\n",
    "import seaborn as sns\n",
    "import matplotlib.pyplot as plt\n",
    "%matplotlib inline\n",
    "\n",
    "# Style and size of graph\n",
    "sns.set_style('darkgrid')\n",
    "sns.set(rc={'figure.figsize':(7,6)})"
   ]
  },
  {
   "cell_type": "markdown",
   "metadata": {},
   "source": [
    "<a id='question'></a>\n",
    "## Questions For Investigation"
   ]
  },
  {
   "cell_type": "markdown",
   "metadata": {},
   "source": [
    "#### 1. What is our independent variable? What is our dependent variable?\n",
    "- The **independent** variable is **the word condition: congruent or incongruent.**\n",
    "- The **dependent** variable is the **time it takes to name the ink colors in equally-sized lists.**"
   ]
  },
  {
   "cell_type": "markdown",
   "metadata": {},
   "source": [
    "#### 2. What is an appropriate set of hypotheses for this task? What kind of statistical test do you expect to perform? Justify your choices.\n",
    "\n",
    "- The null hypothesis will be $H_{0}$ : The word condition (congruent or incongruent) does not change the time it takes to name the color.\n",
    "- The alternative hypothesis will be $H_{a}$ : It takes more time to name the color of an incongruent word than a congruent one.\n",
    "\n",
    "If $\\mu_{C}$ is the average time to name colors from a congruent words list and $\\mu_{I}$ is the average time to name colors from a congruent words list, then:\n",
    "\n",
    "\\begin{align}\n",
    "\\ H_{0}: \\mu_{I} \\leq \\mu_{C} \\\\\n",
    "\\ H_{a}: \\mu_{I} \\gt \\mu_{C} \\\\\n",
    "\\end{align}\n",
    "\n",
    "- As we recorded the time for each person to complete the 2 tasks (congruent or incongruent), we are in the case of a **dependant test for paired sample**.\n",
    "- We work on samples and we don't know the population standard deviation. A **t-test** is well suited.\n",
    "- The alternative hypothesis is that is takes more time to name the color of an incongruent word. The test is directional so we are going to perform a **one-tailed test**."
   ]
  },
  {
   "cell_type": "markdown",
   "metadata": {},
   "source": [
    "#### 3. Report some descriptive statistics regarding this dataset. Include at least one measure of central tendency and at least one measure of variability.\n",
    "We can calculate the sample means and the medians as measures of central tendency and the standard deviations as a measure of variability"
   ]
  },
  {
   "cell_type": "code",
   "execution_count": 2,
   "metadata": {},
   "outputs": [
    {
     "data": {
      "text/html": [
       "<div>\n",
       "<style scoped>\n",
       "    .dataframe tbody tr th:only-of-type {\n",
       "        vertical-align: middle;\n",
       "    }\n",
       "\n",
       "    .dataframe tbody tr th {\n",
       "        vertical-align: top;\n",
       "    }\n",
       "\n",
       "    .dataframe thead th {\n",
       "        text-align: right;\n",
       "    }\n",
       "</style>\n",
       "<table border=\"1\" class=\"dataframe\">\n",
       "  <thead>\n",
       "    <tr style=\"text-align: right;\">\n",
       "      <th></th>\n",
       "      <th>Congruent</th>\n",
       "      <th>Incongruent</th>\n",
       "    </tr>\n",
       "  </thead>\n",
       "  <tbody>\n",
       "    <tr>\n",
       "      <th>count</th>\n",
       "      <td>24.000000</td>\n",
       "      <td>24.000000</td>\n",
       "    </tr>\n",
       "    <tr>\n",
       "      <th>mean</th>\n",
       "      <td>14.051125</td>\n",
       "      <td>22.015917</td>\n",
       "    </tr>\n",
       "    <tr>\n",
       "      <th>std</th>\n",
       "      <td>3.559358</td>\n",
       "      <td>4.797057</td>\n",
       "    </tr>\n",
       "    <tr>\n",
       "      <th>min</th>\n",
       "      <td>8.630000</td>\n",
       "      <td>15.687000</td>\n",
       "    </tr>\n",
       "    <tr>\n",
       "      <th>25%</th>\n",
       "      <td>11.895250</td>\n",
       "      <td>18.716750</td>\n",
       "    </tr>\n",
       "    <tr>\n",
       "      <th>50%</th>\n",
       "      <td>14.356500</td>\n",
       "      <td>21.017500</td>\n",
       "    </tr>\n",
       "    <tr>\n",
       "      <th>75%</th>\n",
       "      <td>16.200750</td>\n",
       "      <td>24.051500</td>\n",
       "    </tr>\n",
       "    <tr>\n",
       "      <th>max</th>\n",
       "      <td>22.328000</td>\n",
       "      <td>35.255000</td>\n",
       "    </tr>\n",
       "  </tbody>\n",
       "</table>\n",
       "</div>"
      ],
      "text/plain": [
       "       Congruent  Incongruent\n",
       "count  24.000000    24.000000\n",
       "mean   14.051125    22.015917\n",
       "std     3.559358     4.797057\n",
       "min     8.630000    15.687000\n",
       "25%    11.895250    18.716750\n",
       "50%    14.356500    21.017500\n",
       "75%    16.200750    24.051500\n",
       "max    22.328000    35.255000"
      ]
     },
     "execution_count": 2,
     "metadata": {},
     "output_type": "execute_result"
    }
   ],
   "source": [
    "# Importing the csv file in a dataframe\n",
    "df = pd.read_csv('stroop_data.csv')\n",
    "df.describe()"
   ]
  },
  {
   "cell_type": "markdown",
   "metadata": {},
   "source": [
    "For the congruent sample: \n",
    "- sample mean $\\bar{x_{C}}$ = 14.05\n",
    "- sample median $m_{C}$ = 14.36\n",
    "- standard deviation (with Bessel's correction) $s_{C}$ = 3.56  \n",
    "\n",
    "For the incongruent sample: \n",
    "- sample mean $\\bar{x_{I}}$ = 22.02\n",
    "- sample median $m_{I}$ = 21.02\n",
    "- standard deviation (with Bessel's correction) $s_{I}$ = 4.80"
   ]
  },
  {
   "cell_type": "markdown",
   "metadata": {},
   "source": [
    "#### 4. Provide one or two visualizations that show the distribution of the sample data. Write one or two sentences noting what you observe about the plot or plots.\n",
    "We can plot the 2 samples on boxplots "
   ]
  },
  {
   "cell_type": "code",
   "execution_count": 3,
   "metadata": {},
   "outputs": [
    {
     "data": {
      "text/plain": [
       "Text(0.5, 1.0, 'Samples boxplots')"
      ]
     },
     "execution_count": 3,
     "metadata": {},
     "output_type": "execute_result"
    },
    {
     "data": {
      "image/png": "[encoded data removed]",
      "text/plain": [
       "<Figure size 504x432 with 1 Axes>"
      ]
     },
     "metadata": {},
     "output_type": "display_data"
    }
   ],
   "source": [
    "# Boxplots\n",
    "df.plot(kind = 'box')\n",
    "# Graph features\n",
    "plt.xlabel('Word condition', fontsize = 14)\n",
    "plt.ylabel('Time to take the test (s)', fontsize = 14)\n",
    "plt.title('Samples boxplots', fontsize = 14)"
   ]
  },
  {
   "cell_type": "markdown",
   "metadata": {},
   "source": [
    "We can also plot the distributions of the samples."
   ]
  },
  {
   "cell_type": "code",
   "execution_count": 4,
   "metadata": {},
   "outputs": [
    {
     "data": {
      "text/plain": [
       "Text(0.5, 1.0, 'Distribution of samples')"
      ]
     },
     "execution_count": 4,
     "metadata": {},
     "output_type": "execute_result"
    },
    {
     "data": {
      "image/png": "[encoded data removed]",
      "text/plain": [
       "<Figure size 504x432 with 1 Axes>"
      ]
     },
     "metadata": {},
     "output_type": "display_data"
    }
   ],
   "source": [
    "# Displaying the distribution of the samples\n",
    "sns.distplot(df['Congruent'], label = 'Congruent')\n",
    "sns.distplot(df['Incongruent'], label = 'Incongruent')\n",
    "# Graph features\n",
    "plt.legend()\n",
    "plt.xlabel('Time to take the test (s)', fontsize = 14)\n",
    "plt.ylabel('Distribution', fontsize = 14)\n",
    "plt.title('Distribution of samples', fontsize = 14)"
   ]
  },
  {
   "cell_type": "markdown",
   "metadata": {},
   "source": [
    "Based on the observation from questions 3 and 4 we can notice that:\n",
    "- There are 24 rows in each sample which gives a degree of freedom of 23.\n",
    "- There seems to be a tendency toward the right on the incongruent sample.\n",
    "- There are 2 outlier points in the incongruent sample.\n",
    "- The mean, median and modes are pretty close one another showing that the samples tend to follow Normal distributions."
   ]
  },
  {
   "cell_type": "markdown",
   "metadata": {},
   "source": [
    "#### 5. Now, perform the statistical test and report your results. What is your confidence level and your critical statistic value? Do you reject the null hypothesis or fail to reject it? Come to a conclusion in terms of the experiment task. Did the results match up with your expectations?\n",
    "\n",
    "According to the *t-table*, the $t_{critical}$ for a one-tailed distribution with $\\alpha$ = 0.01 and a degree of freedom of 23 is:\n",
    "\\begin{align}\n",
    "\\ t_{critical} = 2.50 \\\\\n",
    "\\end{align}\n",
    "\n",
    "The point of estimate is given by the following formula:\n",
    "\\begin{align}\n",
    "\\ M_{D} = \\bar{x_{I}} - \\bar{x_{C}} = 7.96 \\\\\n",
    "\\end{align}\n",
    "Let's now calculate the standard deviation $s_{D}$ of the differences:"
   ]
  },
  {
   "cell_type": "code",
   "execution_count": 5,
   "metadata": {},
   "outputs": [
    {
     "name": "stdout",
     "output_type": "stream",
     "text": [
      "Standard deviation of the differences =  4.86\n"
     ]
    }
   ],
   "source": [
    "df['D'] = df['Incongruent'] - df['Congruent']\n",
    "s_D = df['D'].std(ddof = 1)\n",
    "print(\"Standard deviation of the differences = \",round(s_D,2))"
   ]
  },
  {
   "cell_type": "markdown",
   "metadata": {},
   "source": [
    "Now we can calculate the $t_{statistic}$ with the following formula:\n",
    "\\begin{align}\n",
    "\\ t_{statistic} = \\frac{\\bar{x_{I}} - \\bar{x_{C}}}{\\frac{s_{D}}{\\sqrt{n}}} \\\\\n",
    "\\end{align}"
   ]
  },
  {
   "cell_type": "code",
   "execution_count": 6,
   "metadata": {},
   "outputs": [
    {
     "name": "stdout",
     "output_type": "stream",
     "text": [
      "t_statistic =  8.02\n"
     ]
    }
   ],
   "source": [
    "n = 24\n",
    "M_D = df['Incongruent'].mean() - df['Congruent'].mean()\n",
    "t_stat = (M_D)/(s_D/np.sqrt(n))\n",
    "print(\"t_statistic = \",round(t_stat,2))"
   ]
  },
  {
   "cell_type": "markdown",
   "metadata": {},
   "source": [
    "The $t_{statistic}$ is way above the $t_{critical}$. The $t_{statistic}$ corresponds to a p-value arround **0.01%** (calculated with https://www.graphpad.com/quickcalcs/)\n",
    "\n",
    "Thanks to this very low probability, **we are able to reject $H_{0}$**.\n",
    "\n",
    "Wen can calculated the effect size with the Cohen's d formula:\n",
    "\n",
    "\\begin{align}\n",
    "\\ d = \\frac{M_{D}}{s_{D}} \\\\\n",
    "\\end{align}"
   ]
  },
  {
   "cell_type": "code",
   "execution_count": 7,
   "metadata": {},
   "outputs": [
    {
     "name": "stdout",
     "output_type": "stream",
     "text": [
      "Cohen's d =  1.64\n"
     ]
    }
   ],
   "source": [
    "d = M_D/s_D\n",
    "print(\"Cohen's d = \",round(d,2))"
   ]
  },
  {
   "cell_type": "markdown",
   "metadata": {},
   "source": [
    "**The means are 1.64 standard deviations apart.**\n",
    "\n",
    "Finally, we can calculate the confidence interval at 99%:\n",
    "\\begin{align}\n",
    "\\ CI = M_{D} \\pm t_{critical} \\frac{s_{D}}{\\sqrt{n}} \\\\\n",
    "\\end{align}"
   ]
  },
  {
   "cell_type": "code",
   "execution_count": 8,
   "metadata": {},
   "outputs": [
    {
     "name": "stdout",
     "output_type": "stream",
     "text": [
      "Confidence interval at 99% = (6.97, 8.96)\n"
     ]
    }
   ],
   "source": [
    "CI = (round(M_D - s_D/np.sqrt(n),2), round(M_D + s_D/np.sqrt(n),2))\n",
    "print(\"Confidence interval at 99% =\",CI)"
   ]
  },
  {
   "cell_type": "markdown",
   "metadata": {},
   "source": [
    "The statistical results match with our expectations.\n",
    "\n",
    "Thanks to this statistical test **it seems that, with a confidence at 99%, it takes in average between arround 7 to 9 more seconds to name the color of an incongruent word than of a congruent one.**   \n",
    "\n",
    "Limitations : we don't really know if the conditions of the Stroop task samples were controlled: what is the mother tongue of people who took the test ? Is it the first time they took it (carry-over effet) ?"
   ]
  },
  {
   "cell_type": "markdown",
   "metadata": {},
   "source": [
    "#### 6. Optional: What do you think is responsible for the effects observed? Can you think of an alternative or similar task that would result in a similar effect?\n",
    "\n",
    "Thanks to some research and and reflexion, this is what I conclude:\n",
    "\n",
    "For congruent words, as the color matches the word, the only process involved is reading (which is quite automatic). When the word is incongruent, the brain has to solve the conflict, describe the color and avoid acutally reading the word. This increases the workload and the time to perform the task. Even when trying to focus on the color only and somehow try to \"deactivate\" the reading process, the color naming process remains slow. The brain is more used to read and eventually, the reading process retakes the upper hand.\n",
    "\n",
    "The Stroop effect experiment can also involve numeric character size. The subject has to say which of 2 numbers is the greatest. The numbers in the pair have different sizes. Example:\n",
    "- Congruent pair <font size=3>2</font>, <font size=5>8</font>. \n",
    "- Incongruent pair <font size=5>2</font>, <font size=3>7</font>. \n",
    "\n",
    "In my experience, as a musician, I have been confronted to a Stroop effect phenomenon when reading treble clef (G) and bass clef (F). I learned very young to read notes in the treble clef, so it became as natural as reading words. But on the bass clef, the same note position does not correspond to the same note. So when I began learning cello, it took me a lot more time to decipher a bass clef partition."
   ]
  },
  {
   "cell_type": "markdown",
   "metadata": {},
   "source": [
    "<a id='ref'></a>\n",
    "## References\n",
    "\n",
    "- https://drive.google.com/file/d/0B9Yf01UaIbUgQXpYb2NhZ29yX1U/view\n",
    "- https://faculty.washington.edu/chudler/java/ready.html\n",
    "- https://en.wikipedia.org/wiki/Stroop_effect\n",
    "- http://csrgxtu.github.io/2015/03/20/Writing-Mathematic-Fomulars-in-Markdown/\n",
    "- https://s3.amazonaws.com/udacity-hosted-downloads/t-table.jpg\n",
    "- https://www.graphpad.com/quickcalcs/\n",
    "- https://www.psytoolkit.org/lessons/stroop.html\n",
    "- https://imotions.com/blog/the-stroop-effect/"
   ]
  }
 ],
 "metadata": {
  "kernelspec": {
   "display_name": "Python 3",
   "language": "python",
   "name": "python3"
  },
  "language_info": {
   "codemirror_mode": {
    "name": "ipython",
    "version": 3
   },
   "file_extension": ".py",
   "mimetype": "text/x-python",
   "name": "python",
   "nbconvert_exporter": "python",
   "pygments_lexer": "ipython3",
   "version": "3.6.9"
  }
 },
 "nbformat": 4,
 "nbformat_minor": 4
}
